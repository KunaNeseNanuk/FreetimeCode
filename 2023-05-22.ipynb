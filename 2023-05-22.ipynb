{
 "cells": [
  {
   "attachments": {},
   "cell_type": "markdown",
   "metadata": {},
   "source": [
    "Pro proměnnou fruit_sales napiš kód, který vypočítá celkovou tržbu za ovoce. "
   ]
  },
  {
   "cell_type": "code",
   "execution_count": null,
   "metadata": {},
   "outputs": [],
   "source": [
    "fruit_sales = [\n",
    "    {\"fruit\": \"apple\", \"quantity\": 30, \"price_per_unit\": 1.2},\n",
    "    {\"fruit\": \"orange\", \"quantity\": 45, \"price_per_unit\": 0.8},\n",
    "    {\"fruit\": \"banana\", \"quantity\": 25, \"price_per_unit\": 0.6},\n",
    "    {\"fruit\": \"grape\", \"quantity\": 40, \"price_per_unit\": 2.5},\n",
    "]\n",
    "\n",
    "total_revenue = 0\n",
    "for fruit_sale in fruit_sales:\n",
    "    total_revenue += fruit_sale[\"quantity\"] * fruit_sale[\"price_per_unit\"]\n",
    "\n",
    "print(\"Celková tržba za ovoce: \", total_revenue, \"Kč\")"
   ]
  },
  {
   "attachments": {},
   "cell_type": "markdown",
   "metadata": {},
   "source": [
    "Pro  proměnnou w: w = [\"Monday\", \"Tuesday\", \"Wednesday\", \"Thursday\", \"Friday\", \"Saturday\", \"Sunday\"]\n",
    "Napiš výraz, který vrátí seznam pracovních dnů, tedy [“Monday”, “Tuesday”, “Wednesday”, “Thursday”, “Friday”]."
   ]
  },
  {
   "cell_type": "code",
   "execution_count": null,
   "metadata": {},
   "outputs": [],
   "source": [
    "w = [\"Monday\", \"Tuesday\", \"Wednesday\", \"Thursday\", \"Friday\", \"Saturday\", \"Sunday\"]\n",
    "\n",
    "pracovni_dny = w[0:5]\n",
    "print(pracovni_dny)\n"
   ]
  },
  {
   "attachments": {},
   "cell_type": "markdown",
   "metadata": {},
   "source": [
    "Pro proměnnou d vypiš počet koníčků dané osoby."
   ]
  },
  {
   "cell_type": "code",
   "execution_count": null,
   "metadata": {},
   "outputs": [],
   "source": [
    "d = {\n",
    "    \"firstName\": \"Jane\",\n",
    "    \"lastName\": \"Doe\",\n",
    "    \"hobbies\": [\"running\", \"sky diving\", \"singing\"],\n",
    "    \"age\": 35,\n",
    "    \"children\": [\n",
    "        {\n",
    "            \"firstName\": \"Alice\",\n",
    "            \"age\": 6\n",
    "        },\n",
    "        {\n",
    "            \"firstName\": \"Bob\",\n",
    "            \"age\": 8\n",
    "        }\n",
    "    ]\n",
    "}\n",
    "\n",
    "pocet_konicku = len(d[\"hobbies\"])\n",
    "print(\"Počet koníčků:\", pocet_konicku)"
   ]
  }
 ],
 "metadata": {
  "language_info": {
   "name": "python"
  },
  "orig_nbformat": 4
 },
 "nbformat": 4,
 "nbformat_minor": 2
}

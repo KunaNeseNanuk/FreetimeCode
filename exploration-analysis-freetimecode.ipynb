{
 "cells": [
  {
   "attachments": {},
   "cell_type": "markdown",
   "metadata": {},
   "source": [
    "# Data analysis project"
   ]
  },
  {
   "attachments": {},
   "cell_type": "markdown",
   "metadata": {},
   "source": [
    "### This is a final project for data analysis academy that I created with my colleague Rebeka Kopkas Uličná. Data had to annonymized so in some parts the code as well so this might look bit hectic."
   ]
  },
  {
   "attachments": {},
   "cell_type": "markdown",
   "metadata": {},
   "source": [
    "- Importing a csv table of Czech energetic info and changed the column names to the second row (6 respondent categories, clusters)\n",
    "- Renaming the first two columns as question and sub-question\n",
    "- Using unidecode to get rid of the accents"
   ]
  },
  {
   "cell_type": "code",
   "execution_count": null,
   "metadata": {},
   "outputs": [],
   "source": [
    "%pip install unidecode\n",
    "import pandas as pd\n",
    "from unidecode import unidecode\n",
    "from pprint import pprint\n",
    "import json\n",
    "import matplotlib.pyplot as plt\n",
    "import seaborn as sns\n",
    "from scipy import stats\n",
    "import numpy as np\n",
    "czech_df = pd.read_csv(\"../data/CZ_Energoprofily.csv\", header=1)\n",
    "czech_df.columns.values[0] = \"CZ_dotaz\" \n",
    "czech_df.columns.values[1] = \"CZ_poddotaz\"\n",
    "czech_df.drop(columns = czech_df.columns[range(9,21)], inplace=True)\n",
    "czech_df.columns = czech_df.columns.to_series().apply(unidecode)\n",
    "czech_df.info()\n",
    "czech_df.head()"
   ]
  },
  {
   "attachments": {},
   "cell_type": "markdown",
   "metadata": {},
   "source": [
    "- Getting rid of the question, using unidecode and using lambda function to skip Nan values"
   ]
  },
  {
   "cell_type": "code",
   "execution_count": null,
   "metadata": {},
   "outputs": [],
   "source": [
    "czech_df['czdata1']=czech_df['CZ_dotaz'].apply(lambda value: unidecode(value) if pd.notnull(value) else value)\n",
    "czech_df['czdata12']=czech_df['CZ_poddotaz'].apply(lambda value: unidecode(value) if pd.notnull(value) else value)\n",
    "czech_df.head()"
   ]
  },
  {
   "attachments": {},
   "cell_type": "markdown",
   "metadata": {},
   "source": [
    "- Fill questions into all rows with answers (with ffil)\n",
    "- Export first clustered dataset to csv"
   ]
  },
  {
   "cell_type": "code",
   "execution_count": null,
   "metadata": {},
   "outputs": [],
   "source": [
    "czech_df[\"czdata1\"] = czech_df[\"CZ_dotaz\"].ffill()\n",
    "czech_df.to_csv('soubor45.csv', sep=',', header=True, index=False, mode='w', encoding='UTF-8', decimal='.')"
   ]
  },
  {
   "attachments": {},
   "cell_type": "markdown",
   "metadata": {},
   "source": [
    "- One file contained coded questions and answers of 2000 + survey participants and 2 tables of \"Labels\" = codes and corresponding originals for the answers and questions in the first table. \n",
    "- Creating first level dictionary (questions), which translates labels on the \"Data\" dataset with the original questionaire's question. "
   ]
  },
  {
   "cell_type": "code",
   "execution_count": null,
   "metadata": {},
   "outputs": [],
   "source": [
    "questionaire_questions={}\n",
    "labels_01=pd.read_csv(\"../data/labels_dict_01.csv\", header=0)\n",
    "# labels_01.info()\n",
    "# Remove columns, which we don't need, remaining Name and Label\n",
    "labels_01.drop(['Position', 'Measurement Level', 'Role', 'Width', 'Alignment', 'Print Format', 'Write Format',\n",
    "       'Missing Values'], axis = 1, inplace=True)\n",
    "# labels_01.columns\n",
    "labels_01.set_index('Name', inplace=True) \n",
    "labels_01.head(5)\n",
    "questionaire_questions = labels_01.to_dict(orient='dict')['Label']\n",
    "pprint(questionaire_questions)"
   ]
  },
  {
   "attachments": {},
   "cell_type": "markdown",
   "metadata": {},
   "source": [
    "- Creating a second level dictionary (answers), which translates the labels on the \"Data\" table with the original answers. \n",
    "- Since the codes for the answers aren't unique, we had to retain the question code (and subsequently label) too. \n",
    "- Therefore we have created a nested dictionary structure"
   ]
  },
  {
   "cell_type": "code",
   "execution_count": null,
   "metadata": {},
   "outputs": [],
   "source": [
    "questionaire_answers={} #nested dict\n",
    "labels_02=pd.read_csv(\"../data/labels_dict_02.csv\", header=0)\n",
    "labels_02.columns.values[1] = \"code_of_answer\"\n",
    "labels_02.columns.values[2] = \"answer_lvl_2\"\n",
    "labels_02.columns\n",
    "labels_02[\"Variable Value\"] = labels_02['Variable Value'].ffill()\n",
    "def create_dictionary(df):\n",
    "    df.set_index(\"code_of_answer\", inplace=True) #tohle dělá nastavení podle čeho budou keys\n",
    "    return df.to_dict()[\"answer_lvl_2\"]   #mrknout proč nám to padá s paramatrem index\n",
    "apply(lambda x: x.set_index('code_of_answer').to_dict()[\"answer_lvl_2\"])"
   ]
  },
  {
   "attachments": {},
   "cell_type": "markdown",
   "metadata": {},
   "source": [
    "- Export the two Answer and Question code dictionaries as JSON files. \n",
    "- Load our Data of 2000+ surveys."
   ]
  },
  {
   "cell_type": "code",
   "execution_count": null,
   "metadata": {},
   "outputs": [],
   "source": [
    "# SURVEY Data\n",
    "data_CZ=pd.read_csv(\"../data/Data_CZ_energetika.csv\", encoding='UTF-8')\n",
    "data_CZ.info()\n",
    "data_CZ.head()"
   ]
  },
  {
   "attachments": {},
   "cell_type": "markdown",
   "metadata": {},
   "source": [
    "### Data cleaning level 2:\n",
    "- Codes for \"I dont know / Don't want to tell\" are: 99, '99[a]', '9[a]', 88, -9 in specific columns \n",
    "- this code show us what the exact names of our columns are "
   ]
  },
  {
   "cell_type": "code",
   "execution_count": null,
   "metadata": {},
   "outputs": [],
   "source": [
    "print(data_CZ.columns.tolist())"
   ]
  },
  {
   "cell_type": "code",
   "execution_count": null,
   "metadata": {},
   "outputs": [],
   "source": [
    "data_CZ = data_CZ.replace({'vol21': {99: np.nan, 88: np.nan}})\n",
    "data_CZ = data_CZ.replace({'vo1': {99: np.nan, 88: np.nan}})\n",
    "data_CZ.loc[:, 'ident_1': 'ident_14'] = data_CZ.loc[:, 'ident_1':'ident_14'].replace('99', np.nan)\n",
    "data_CZ.loc[:, 'czprob_1':'czprob_8'] = data_CZ.loc[:, 'czprob_1':'czprob_8'].replace('99', np.nan)\n",
    "data_CZ.loc[:, 'mob2_1':'mob2_9'] = data_CZ.loc[:, 'mob2_1':'mob2_9'].replace('9', np.nan)\n",
    "data_CZ.loc[:, ['gdf', 'dpri']] = data_CZ.loc[:, ['gdf', 'dpri']].replace(99, np.nan)\n",
    "data_CZ.loc[:, 'heat2_1': 'heat2_6'] = data_CZ.loc[:, 'heat2_1': 'heat2_6'].replace(-9, np.nan)"
   ]
  },
  {
   "attachments": {},
   "cell_type": "markdown",
   "metadata": {},
   "source": [
    "Testing the results"
   ]
  },
  {
   "cell_type": "code",
   "execution_count": null,
   "metadata": {},
   "outputs": [],
   "source": [
    "print(data_CZ.loc[11:15, 'ident_1':'ident_14'])\n",
    "data_CZ.loc[:, 'mob2_1':'mob2_9'].info()\n",
    "print(data_CZ['vol21'])"
   ]
  },
  {
   "attachments": {},
   "cell_type": "markdown",
   "metadata": {},
   "source": [
    "* Changing \"Other\" types of answers to the actual answers in the subsequent column"
   ]
  },
  {
   "cell_type": "code",
   "execution_count": null,
   "metadata": {},
   "outputs": [],
   "source": [
    "pol_map = questionaire_answers\n",
    "\n",
    "def replace_pol(row):\n",
    "    if np.isnan(row[\"vo1\"]):\n",
    "        return np.nan\n",
    "    if row[\"vo1\"] == 666: \n",
    "        return row[\"v4\"]\n",
    "    return pol_map[\"V4\"][str(int(row[\"vo1\"]))]\n",
    "data_CZ[\"vo1\"] = data_CZ.apply(replace_pol, axis=1)"
   ]
  },
  {
   "cell_type": "code",
   "execution_count": null,
   "metadata": {},
   "outputs": [],
   "source": [
    "pol_map = questionaire_answers \n",
    "\n",
    "def replace_pol(row):\n",
    "    if np.isnan(row[\"vol21\"]):\n",
    "        return np.nan\n",
    "    if row[\"vol21\"] == 666: \n",
    "        return row[\"vol21_O_T_H\"]\n",
    "    if row[\"vol21\"] == -9:\n",
    "        return pol_map[\"E98\"][str(row[\"el21\"])]\n",
    "    return pol_map[\"vo4\"][str(row[\"vol21\"])]\n",
    "\n",
    "data_CZ[\"vol21\"] = data_CZ.apply(replace_pol, axis=1)"
   ]
  },
  {
   "cell_type": "code",
   "execution_count": null,
   "metadata": {},
   "outputs": [],
   "source": [
    "heating_map = questionaire_answers\n",
    "def replace_heat(n):\n",
    "    if n == 0:\n",
    "        return np.nan\n",
    "    return heating_map[\"Heat78\"][str(int(n))]\n",
    "data_CZ.loc[:, 'heat2_1': 'heat2_6'] = data_CZ.loc[:, 'heat2_1': 'heat2_6'].applymap(replace_heat, na_action=\"ignore\")"
   ]
  },
  {
   "attachments": {},
   "cell_type": "markdown",
   "metadata": {},
   "source": [
    "- Replace codes with net income categories"
   ]
  },
  {
   "cell_type": "code",
   "execution_count": null,
   "metadata": {},
   "outputs": [],
   "source": [
    "def replace_income(n):\n",
    "    return questionaire_answers[\"Dprijem7\"][str(int(n))]\n",
    "data_CZ[['dpri']] = data_CZ[['dpri']].applymap(replace_income, na_action=\"ignore\")"
   ]
  },
  {
   "attachments": {},
   "cell_type": "markdown",
   "metadata": {},
   "source": [
    "\n",
    "- Renaming the question columns (originally coded with abbreviations) using the questions dictionary\n",
    "- All the answers (except for Nan values) are replaced by their string equivalents (as in the dictionaries) and subsequently replaced by their actual answers (using the answers dictionary)\n"
   ]
  },
  {
   "attachments": {},
   "cell_type": "markdown",
   "metadata": {},
   "source": [
    "- Exporting the dataframe of survey data into a csv with Nan values to visualize in PowerBI"
   ]
  },
  {
   "cell_type": "code",
   "execution_count": null,
   "metadata": {},
   "outputs": [],
   "source": [
    "data_CZ.rename(columns=questionaire_questions, inplace=True)\n",
    "data_CZ = data_CZ.applymap(str, na_action=\"ignore\")\n",
    "data_CZ.replace(questionaire_answers, inplace=True)\n",
    "data_CZ.to_csv('Data_CZ_withNans2.csv', sep=',', header=True, index=False, mode='w', encoding='UTF-8', decimal='.')\n"
   ]
  },
  {
   "attachments": {},
   "cell_type": "markdown",
   "metadata": {},
   "source": [
    "- export both dictionaries to json files"
   ]
  },
  {
   "cell_type": "code",
   "execution_count": null,
   "metadata": {},
   "outputs": [],
   "source": [
    "with open('questionaire_labels_answers.json', mode='w', encoding='utf-8') as fp:\n",
    "    json.dump(questionaire_answers, fp, ensure_ascii=False, indent=4)\n",
    "    \n",
    "with open('questionaire_labels_questions.json', mode='w', encoding='utf-8') as fp:\n",
    "    json.dump(questionaire_questions, fp, ensure_ascii=False, indent=4)"
   ]
  },
  {
   "attachments": {},
   "cell_type": "markdown",
   "metadata": {},
   "source": [
    "- Using csv reader and writer in order to be able to use questions with values such as \"99[a]\", \"9[a]\", 99, 88, \"99\", -9 - replacing it with none values. "
   ]
  },
  {
   "cell_type": "code",
   "execution_count": null,
   "metadata": {},
   "outputs": [],
   "source": [
    "not_valid_values = [\"99[a]\", \"9[a]\", 99, 88, \"99\", -9]\n",
    "mob_questions = [\n",
    "    \"Otazka1\",\n",
    "    \"Otazka2\",\n",
    "    \"Otazka3\",\n",
    "    \"Otazka4\"\n",
    "]\n",
    "# questionaire_answers.to_csv('questionaire_labels_answers.csv', sep=',', header=True, index=False, mode='w', encoding='UTF-8', decimal='.')\n",
    "with open('questionaire_labels_answers.csv', 'w', encoding=\"utf-8\") as output:\n",
    "    writer = csv.writer(output, delimiter=',')\n",
    "    for session_id in sorted(questionaire_answers):\n",
    "        questan = questionaire_answers[session_id]\n",
    "        for item in questan:\n",
    "            if session_id in mob_questions and item == \"9\":\n",
    "                writer.writerow([session_id, None, questan[item]])\n",
    "            elif item in not_valid_values:\n",
    "                writer.writerow([session_id, None, questan[item]])\n",
    "            else:\n",
    "                writer.writerow([session_id, int(float(item)), questan[item]])"
   ]
  },
  {
   "cell_type": "code",
   "execution_count": null,
   "metadata": {},
   "outputs": [],
   "source": [
    "with open('questionaire_labels_questions.csv', 'w', encoding=\"utf-8\") as output:\n",
    "    writer = csv.writer(output, delimiter=',')\n",
    "    for column, question in questionaire_questions.items():\n",
    "        writer.writerow([column, question])"
   ]
  },
  {
   "attachments": {},
   "cell_type": "markdown",
   "metadata": {},
   "source": [
    "* Create dimensions tables (74 of them) from questionaire labels answers, which will be used for answer labels sorting in Power BI. "
   ]
  },
  {
   "cell_type": "code",
   "execution_count": null,
   "metadata": {},
   "outputs": [],
   "source": [
    "\n",
    "data = pd.read_csv('questionaire_labels_answers.csv')\n",
    "print(data.columns)\n",
    "grouped = data.groupby('otazka78')\n",
    "\n",
    "i=0\n",
    "\n",
    "for group_name, group_data in grouped:\n",
    "    output_data = group_data[['rozhodně nepředstavuje', '1']]\n",
    "    output_data = output_data.rename(columns={'column3': group_name, 'column2': f'poradi_{group_name[:10]}'})\n",
    "    output_data.to_csv(f'dimension_tables_Q_raw_CZ/{i}_{group_name[:10].replace(\"/\", \"_\")}.csv', index=False)\n",
    "    i+=1"
   ]
  }
 ],
 "metadata": {
  "kernelspec": {
   "display_name": "Python 3",
   "language": "python",
   "name": "python3"
  },
  "language_info": {
   "codemirror_mode": {
    "name": "ipython",
    "version": 3
   },
   "file_extension": ".py",
   "mimetype": "text/x-python",
   "name": "python",
   "nbconvert_exporter": "python",
   "pygments_lexer": "ipython3",
   "version": "3.9.10"
  },
  "orig_nbformat": 4
 },
 "nbformat": 4,
 "nbformat_minor": 2
}
